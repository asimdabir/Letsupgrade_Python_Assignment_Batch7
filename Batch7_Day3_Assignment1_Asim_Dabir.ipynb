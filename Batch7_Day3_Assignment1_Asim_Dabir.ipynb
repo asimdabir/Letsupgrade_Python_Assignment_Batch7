{
 "cells": [
  {
   "cell_type": "markdown",
   "metadata": {},
   "source": [
    "# Day 3 Assignment 1"
   ]
  },
  {
   "cell_type": "code",
   "execution_count": 6,
   "metadata": {},
   "outputs": [
    {
     "name": "stdout",
     "output_type": "stream",
     "text": [
      "Enter the flight altitude 6000\n",
      "Trun the flight around and try later by bringing the flight to 1000 ft\n"
     ]
    }
   ],
   "source": [
    "alt = int(input (\"Enter the flight altitude \"))\n",
    "if (alt <= 1000):\n",
    "    print (\"Flight is safe to land\")\n",
    "elif (alt > 1000 and alt <= 5000):\n",
    "    print (\"Bring the flight down to 1000 ft for landing\")\n",
    "else:\n",
    "    print (\"Trun the flight around and try to land later by bringing the flight to 1000 ft\")"
   ]
  },
  {
   "cell_type": "code",
   "execution_count": null,
   "metadata": {},
   "outputs": [],
   "source": []
  }
 ],
 "metadata": {
  "kernelspec": {
   "display_name": "Python 3",
   "language": "python",
   "name": "python3"
  },
  "language_info": {
   "codemirror_mode": {
    "name": "ipython",
    "version": 3
   },
   "file_extension": ".py",
   "mimetype": "text/x-python",
   "name": "python",
   "nbconvert_exporter": "python",
   "pygments_lexer": "ipython3",
   "version": "3.8.3"
  }
 },
 "nbformat": 4,
 "nbformat_minor": 4
}
