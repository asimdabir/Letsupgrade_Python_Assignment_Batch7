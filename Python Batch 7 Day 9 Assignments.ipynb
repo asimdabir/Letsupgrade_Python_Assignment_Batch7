{
 "cells": [
  {
   "cell_type": "code",
   "execution_count": 1,
   "metadata": {},
   "outputs": [
    {
     "name": "stdout",
     "output_type": "stream",
     "text": [
      "Enter the first number - 1\n",
      "Enter the second number -  1000\n",
      "0 1 1 2 3 5 8 13 21 34 55 89 144 233 377 610 987 Enter the first number - 1\n",
      "Enter the second number -  1\n",
      "2\n",
      "Enter the first number - 1\n",
      "Enter the second number -  1\n",
      "0\n"
     ]
    }
   ],
   "source": [
    "# Assignment 1\n",
    "# Create the fibonacci series using decorators\n",
    "def getInput(calculate_arg_fun):\n",
    "    def wrap_function ():\n",
    "        a = int (input (\"Enter the first number - \"))\n",
    "        b = int (input (\"Enter the second number -  \"))\n",
    "        calculate_arg_fun(a,b)\n",
    "    return wrap_function\n",
    "\n",
    "@getInput\n",
    "def fibonacci (num1,num2):\n",
    "    a = 0\n",
    "    b = 1\n",
    "    num2 \n",
    "    if (num2 >= 0): \n",
    "        print(a, end=' ') \n",
    "    if (num2 >= 1): \n",
    "        print(b, end=' ') \n",
    "    for i in range(2, num2+1): \n",
    "        c = a + b \n",
    "        if (c >= num1 and c <= num2):\n",
    "            print(c, end=' ')\n",
    "        a = b \n",
    "        b = c\n",
    "        if c >= num2:\n",
    "            break\n",
    "            \n",
    "@getInput\n",
    "def addition (num1,num2):\n",
    "    print(num1 + num2)\n",
    "    \n",
    "\n",
    "@getInput\n",
    "def subtraction (num1,num2):\n",
    "    print(num1 - num2)\n",
    "    \n",
    "fibonacci()\n",
    "addition()\n",
    "subtraction()"
   ]
  },
  {
   "cell_type": "code",
   "execution_count": 52,
   "metadata": {},
   "outputs": [
    {
     "name": "stdout",
     "output_type": "stream",
     "text": [
      "File not writable\n"
     ]
    }
   ],
   "source": [
    "# Assignment2 \n",
    "# Program to open a file in read mode and try to write\n",
    "try:\n",
    "    file_handle1 = open(\"sample_log.txt\", \"r\")\n",
    "    file_handle1.write(\"This is my test file for exception handling!!\")\n",
    "except IOError:\n",
    "    print(\"File not writable\")\n",
    "    file_handle1.close()"
   ]
  }
 ],
 "metadata": {
  "kernelspec": {
   "display_name": "Python 3",
   "language": "python",
   "name": "python3"
  },
  "language_info": {
   "codemirror_mode": {
    "name": "ipython",
    "version": 3
   },
   "file_extension": ".py",
   "mimetype": "text/x-python",
   "name": "python",
   "nbconvert_exporter": "python",
   "pygments_lexer": "ipython3",
   "version": "3.8.3"
  }
 },
 "nbformat": 4,
 "nbformat_minor": 4
}
