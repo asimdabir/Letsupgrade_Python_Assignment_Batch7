{
 "cells": [
  {
   "cell_type": "markdown",
   "metadata": {},
   "source": [
    "# Python Batch 7 Day 4 Assignments"
   ]
  },
  {
   "cell_type": "code",
   "execution_count": 54,
   "metadata": {},
   "outputs": [
    {
     "name": "stdout",
     "output_type": "stream",
     "text": [
      "Enter the amount to deposit 1000\n",
      "Owner Name Asim\n",
      "Balance 11000\n",
      "Enter the amount to withdraw 1000\n",
      "Owner Name Asim\n",
      "Balance 10000\n",
      "Enter the amount to deposit 1500\n",
      "Owner Name Sai\n",
      "Balance 11500\n",
      "Enter the amount to withdraw 500\n",
      "Owner Name Sai\n",
      "Balance 11000\n"
     ]
    }
   ],
   "source": [
    "# Assignment 1\n",
    "# Deposit and Withdrawal Class program\n",
    "class bankaccount():\n",
    "    def __init__(self, ownerName, balance):\n",
    "        self.ownerName = ownerName\n",
    "        self.balance = balance\n",
    "    \n",
    "    def deposit(self):\n",
    "        amt = int(input(\"Enter the amount to deposit \"))\n",
    "        self.balance += amt\n",
    "        print (\"Owner Name\",self.ownerName)\n",
    "        print (\"Balance\",self.balance)\n",
    "    \n",
    "    def withdrawal(self):\n",
    "        amt = int(input(\"Enter the amount to withdraw \"))\n",
    "        if (amt > self.balance):\n",
    "            print (\"WIthdrawal amount is greater than balance amount\")\n",
    "            print (\"Owner Name - \",self.ownerName)\n",
    "            print (\"Balance - \",self.balance)\n",
    "        else:\n",
    "            self.balance -= amt\n",
    "            print (\"Owner Name - \",self.ownerName)\n",
    "            print (\"Balance - \",self.balance)\n",
    "    \n",
    "    bb = bankaccount(\"Asim\", 10000)\n",
    "    bb.deposit()\n",
    "    bb.withdrawal ()\n",
    "    \n",
    "    \n",
    "    bb = bankaccount(\"Sai\", 10000)\n",
    "    bb.deposit()\n",
    "    bb.withdrawal ()"
   ]
  },
  {
   "cell_type": "code",
   "execution_count": 71,
   "metadata": {},
   "outputs": [],
   "source": [
    "# Assignment 1\n",
    "# Class program to find Volume and surface area\n",
    "\n",
    "import math \n",
    "pie = math.pi\n",
    "\n",
    "class volumeArea():\n",
    "    def __init__(self, radius,height):\n",
    "        self.radius = radius\n",
    "        self.height = height\n",
    "        \n",
    "    def findVolume(self):\n",
    "        volume = pie * self.radius ** 2 * (self.height/3)\n",
    "        print (\"Volume - \", volume )\n",
    "    \n",
    "    def findsurfaceArea(self):\n",
    "        surfaceArea = pie * self.radius ** 2 + pie * self.radius * math.sqrt (self.radius ** 2 * self.height ** 2 )\n",
    "        print (\"Surface Area - \", surfaceArea )\n",
    "        \n"
   ]
  },
  {
   "cell_type": "code",
   "execution_count": 75,
   "metadata": {},
   "outputs": [
    {
     "name": "stdout",
     "output_type": "stream",
     "text": [
      "Volume -  9698.09652163169\n",
      "Surface Area -  30479.731925128173\n"
     ]
    }
   ],
   "source": [
    "va = volumeArea (21,21)\n",
    "va.radius\n",
    "va.height\n",
    "va.findVolume ()\n",
    "va.findsurfaceArea()"
   ]
  },
  {
   "cell_type": "code",
   "execution_count": null,
   "metadata": {},
   "outputs": [],
   "source": []
  }
 ],
 "metadata": {
  "kernelspec": {
   "display_name": "Python 3",
   "language": "python",
   "name": "python3"
  },
  "language_info": {
   "codemirror_mode": {
    "name": "ipython",
    "version": 3
   },
   "file_extension": ".py",
   "mimetype": "text/x-python",
   "name": "python",
   "nbconvert_exporter": "python",
   "pygments_lexer": "ipython3",
   "version": "3.8.3"
  }
 },
 "nbformat": 4,
 "nbformat_minor": 4
}
