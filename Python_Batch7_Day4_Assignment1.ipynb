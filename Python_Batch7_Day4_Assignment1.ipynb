{
 "cells": [
  {
   "cell_type": "markdown",
   "metadata": {},
   "source": [
    "# Python_Batch7_Day4_Assignment"
   ]
  },
  {
   "cell_type": "code",
   "execution_count": 28,
   "metadata": {},
   "outputs": [
    {
     "name": "stdout",
     "output_type": "stream",
     "text": [
      "Amstrong Number are \n",
      "1741725\n",
      "4210818\n",
      "9800817\n",
      "9926315\n",
      "24678050\n",
      "24678051\n",
      "88593477\n",
      "146511208\n",
      "472335975\n",
      "534494836\n"
     ]
    }
   ],
   "source": [
    "# Assignment 1\n",
    "# Find Amstrong number in an interval -> 1042000 - 702648265\n",
    "\n",
    "lb = 1042000\n",
    "ub = 702648265\n",
    "print (\"Amstrong Number are \")\n",
    "for number in range(lb, ub + 1):\n",
    "    temp = number\n",
    "    order = len(str(number))\n",
    "    summ = 0\n",
    "    while temp > 0:\n",
    "        digit = temp % 10\n",
    "        summ += digit ** order\n",
    "        temp //= 10\n",
    "\n",
    "    if number == summ:\n",
    "        print(number)\n"
   ]
  },
  {
   "cell_type": "code",
   "execution_count": null,
   "metadata": {},
   "outputs": [],
   "source": []
  }
 ],
 "metadata": {
  "kernelspec": {
   "display_name": "Python 3",
   "language": "python",
   "name": "python3"
  },
  "language_info": {
   "codemirror_mode": {
    "name": "ipython",
    "version": 3
   },
   "file_extension": ".py",
   "mimetype": "text/x-python",
   "name": "python",
   "nbconvert_exporter": "python",
   "pygments_lexer": "ipython3",
   "version": "3.8.3"
  }
 },
 "nbformat": 4,
 "nbformat_minor": 4
}
